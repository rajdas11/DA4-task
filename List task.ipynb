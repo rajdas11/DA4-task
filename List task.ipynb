{
 "cells": [
  {
   "cell_type": "markdown",
   "id": "b4a27b34-0e8f-4d6a-a204-7da26a1b1520",
   "metadata": {},
   "source": [
    "# APPEND FUNCTION\n",
    "* The append function method is used to add element at the  end of the list."
   ]
  },
  {
   "cell_type": "code",
   "execution_count": 6,
   "id": "b858a135-2967-47eb-b3d7-f39ca8325d74",
   "metadata": {},
   "outputs": [
    {
     "name": "stdout",
     "output_type": "stream",
     "text": [
      "[2, 3, 4, 5, 6]\n"
     ]
    }
   ],
   "source": [
    "a1=[2,3,4,5,6,]\n",
    "print(a1)"
   ]
  },
  {
   "cell_type": "code",
   "execution_count": 8,
   "id": "58dc7a56-7c49-4fc7-872a-edfd245eab3a",
   "metadata": {},
   "outputs": [],
   "source": [
    "a1.append(7)"
   ]
  },
  {
   "cell_type": "code",
   "execution_count": 9,
   "id": "ed08412f-9acd-4ab3-843c-93add671576c",
   "metadata": {},
   "outputs": [
    {
     "data": {
      "text/plain": [
       "[2, 3, 4, 5, 6, 7, 7]"
      ]
     },
     "execution_count": 9,
     "metadata": {},
     "output_type": "execute_result"
    }
   ],
   "source": [
    "a1"
   ]
  },
  {
   "cell_type": "markdown",
   "id": "c99f7361-502c-46b6-91ad-92775b77ac27",
   "metadata": {},
   "source": [
    "# REMOVE FUNCTION\n",
    "* The remove function method removes a given element from the list."
   ]
  },
  {
   "cell_type": "code",
   "execution_count": 15,
   "id": "192c47ac-4829-44b6-9138-a8baae528906",
   "metadata": {},
   "outputs": [
    {
     "data": {
      "text/plain": [
       "['orange', 'papaya', 'banana', 'mango']"
      ]
     },
     "execution_count": 15,
     "metadata": {},
     "output_type": "execute_result"
    }
   ],
   "source": [
    "a2=['orange','papaya','banana','mango']\n",
    "a2"
   ]
  },
  {
   "cell_type": "code",
   "execution_count": 16,
   "id": "8bca77f3-2697-4681-848d-9f65ce8f1198",
   "metadata": {},
   "outputs": [],
   "source": [
    "a2.remove(\"banana\")"
   ]
  },
  {
   "cell_type": "code",
   "execution_count": 17,
   "id": "5fb259fd-04e5-4205-b34d-417eeaa18d85",
   "metadata": {},
   "outputs": [
    {
     "data": {
      "text/plain": [
       "['orange', 'papaya', 'mango']"
      ]
     },
     "execution_count": 17,
     "metadata": {},
     "output_type": "execute_result"
    }
   ],
   "source": [
    "a2"
   ]
  },
  {
   "cell_type": "markdown",
   "id": "1cc96c6a-888d-4eca-85a4-18b8146160d3",
   "metadata": {},
   "source": [
    "# COUNT FUNCTION\n",
    "* The count function method returns the count of the occurrences of a given element in a list."
   ]
  },
  {
   "cell_type": "code",
   "execution_count": 21,
   "id": "7f7a2d47-11a7-4b43-882b-31fbc76d09c4",
   "metadata": {},
   "outputs": [],
   "source": [
    "a3=['apple','mango','papaya','cherry','banana','apple']"
   ]
  },
  {
   "cell_type": "code",
   "execution_count": 24,
   "id": "e29f6d95-5f0b-463c-a485-4e9d7fb8978b",
   "metadata": {},
   "outputs": [
    {
     "data": {
      "text/plain": [
       "['apple', 'mango', 'papaya', 'cherry', 'banana', 'apple']"
      ]
     },
     "execution_count": 24,
     "metadata": {},
     "output_type": "execute_result"
    }
   ],
   "source": [
    "a3"
   ]
  },
  {
   "cell_type": "code",
   "execution_count": 20,
   "id": "ff21018d-c54e-4e64-94a2-28dce95b38c0",
   "metadata": {},
   "outputs": [
    {
     "data": {
      "text/plain": [
       "1"
      ]
     },
     "execution_count": 20,
     "metadata": {},
     "output_type": "execute_result"
    }
   ],
   "source": [
    "a3.count(\"mango\")"
   ]
  },
  {
   "cell_type": "code",
   "execution_count": 22,
   "id": "bd5d9538-ceff-4fc1-be5c-8c941fd2c96f",
   "metadata": {},
   "outputs": [
    {
     "data": {
      "text/plain": [
       "['apple', 'mango', 'papaya', 'cherry', 'banana', 'apple']"
      ]
     },
     "execution_count": 22,
     "metadata": {},
     "output_type": "execute_result"
    }
   ],
   "source": [
    "a3"
   ]
  },
  {
   "cell_type": "code",
   "execution_count": 23,
   "id": "b0c0424f-bc58-4b96-8de3-5443269aca44",
   "metadata": {},
   "outputs": [
    {
     "data": {
      "text/plain": [
       "2"
      ]
     },
     "execution_count": 23,
     "metadata": {},
     "output_type": "execute_result"
    }
   ],
   "source": [
    "a3.count(\"apple\")"
   ]
  },
  {
   "cell_type": "markdown",
   "id": "9cf7b986-6ebc-431e-bc40-46893160566a",
   "metadata": {},
   "source": [
    "# CLEAR FUNCTION\n",
    "* Clear function method removes all items from the list making it an empty list."
   ]
  },
  {
   "cell_type": "code",
   "execution_count": 25,
   "id": "fa1c2ea5-c517-4463-908b-3f9eb4eda05a",
   "metadata": {},
   "outputs": [],
   "source": [
    "a4=[1,2,3,4,5,6]"
   ]
  },
  {
   "cell_type": "code",
   "execution_count": 26,
   "id": "8630a11d-a960-4af6-84f1-774c24ae93a5",
   "metadata": {},
   "outputs": [
    {
     "data": {
      "text/plain": [
       "[1, 2, 3, 4, 5, 6]"
      ]
     },
     "execution_count": 26,
     "metadata": {},
     "output_type": "execute_result"
    }
   ],
   "source": [
    "a4"
   ]
  },
  {
   "cell_type": "code",
   "execution_count": 27,
   "id": "03741747-704b-4f54-9855-ab635094ab30",
   "metadata": {},
   "outputs": [],
   "source": [
    "a4.clear()"
   ]
  },
  {
   "cell_type": "code",
   "execution_count": 28,
   "id": "5a7cb5ae-5254-4014-8aa6-115040dfbaee",
   "metadata": {},
   "outputs": [
    {
     "data": {
      "text/plain": [
       "[]"
      ]
     },
     "execution_count": 28,
     "metadata": {},
     "output_type": "execute_result"
    }
   ],
   "source": [
    "a4"
   ]
  },
  {
   "cell_type": "markdown",
   "id": "31599b7c-5300-403c-90b9-bac145adff01",
   "metadata": {},
   "source": [
    "# EXTEND FUNCTION\n",
    "* The extend function method adds items of at the and of a list."
   ]
  },
  {
   "cell_type": "code",
   "execution_count": 71,
   "id": "6a0416e9-eed4-4771-8b67-f91b0854ffd4",
   "metadata": {},
   "outputs": [],
   "source": [
    "bikes=[\"BMW\",\"YAHAMA\",\"KAWASAKI\",\"BUGATI\"]"
   ]
  },
  {
   "cell_type": "code",
   "execution_count": 72,
   "id": "a415ed2f-d9e0-4de8-9df1-be7f0e39499e",
   "metadata": {},
   "outputs": [],
   "source": [
    "other_bikes=[\"HAYABUSA\", \"ROYAL ENFIELD\"]"
   ]
  },
  {
   "cell_type": "code",
   "execution_count": 73,
   "id": "348c0b40-91f5-49ae-8938-3c8dff5cab26",
   "metadata": {},
   "outputs": [],
   "source": [
    "bikes.extend(other_bikes)"
   ]
  },
  {
   "cell_type": "code",
   "execution_count": 74,
   "id": "0e78a0cf-125f-4eeb-9a1c-ccdc92d0f18f",
   "metadata": {},
   "outputs": [
    {
     "data": {
      "text/plain": [
       "['BMW', 'YAHAMA', 'KAWASAKI', 'BUGATI', 'HAYABUSA', 'ROYAL ENFIELD']"
      ]
     },
     "execution_count": 74,
     "metadata": {},
     "output_type": "execute_result"
    }
   ],
   "source": [
    "bikes"
   ]
  },
  {
   "cell_type": "markdown",
   "id": "9da72cb6-ee93-4ea2-bc47-6ef300823a69",
   "metadata": {},
   "source": [
    "# INSERT FUNCTION\n",
    "* Insert function method inserts an item at a specific index in a list."
   ]
  },
  {
   "cell_type": "code",
   "execution_count": 104,
   "id": "db307af6-6508-4178-ba35-7164aa6d7ccf",
   "metadata": {},
   "outputs": [],
   "source": [
    "fruits=[\"banana\",\"cherry\",\"mango\"]"
   ]
  },
  {
   "cell_type": "code",
   "execution_count": 105,
   "id": "1f91a7a1-c42a-4ec6-b1bd-39678364e705",
   "metadata": {},
   "outputs": [
    {
     "data": {
      "text/plain": [
       "['banana', 'cherry', 'mango']"
      ]
     },
     "execution_count": 105,
     "metadata": {},
     "output_type": "execute_result"
    }
   ],
   "source": [
    "fruits"
   ]
  },
  {
   "cell_type": "code",
   "execution_count": 109,
   "id": "79810bfa-ea75-49bd-8379-3a1ea75aa47c",
   "metadata": {},
   "outputs": [],
   "source": [
    "fruits.insert(2,\"apple\")"
   ]
  },
  {
   "cell_type": "code",
   "execution_count": 110,
   "id": "e70dc5c3-0cca-44b7-ae59-2cfd10baed5b",
   "metadata": {},
   "outputs": [
    {
     "data": {
      "text/plain": [
       "['banana', 'cherry', 'apple', 'apple', 'mango']"
      ]
     },
     "execution_count": 110,
     "metadata": {},
     "output_type": "execute_result"
    }
   ],
   "source": [
    "fruits"
   ]
  },
  {
   "cell_type": "markdown",
   "id": "4e714d2f-e118-4ebd-96e1-5354980240b2",
   "metadata": {},
   "source": [
    "# SORT FUNCTION\n",
    "* Sort function method sort the element of a list. It sorts in ascending order or descending order."
   ]
  },
  {
   "cell_type": "code",
   "execution_count": 82,
   "id": "6bbe2f5c-6e02-49d8-bb68-1aae036ff2db",
   "metadata": {},
   "outputs": [],
   "source": [
    "num=[30,45,20,40,10,50,25,15,35]"
   ]
  },
  {
   "cell_type": "code",
   "execution_count": 83,
   "id": "e93a3817-c28c-4768-b144-cf447e3f24e1",
   "metadata": {},
   "outputs": [
    {
     "data": {
      "text/plain": [
       "[30, 45, 20, 40, 10, 50, 25, 15, 35]"
      ]
     },
     "execution_count": 83,
     "metadata": {},
     "output_type": "execute_result"
    }
   ],
   "source": [
    "num"
   ]
  },
  {
   "cell_type": "code",
   "execution_count": 84,
   "id": "68e58243-41ef-48dc-898a-61c7dc1335bd",
   "metadata": {},
   "outputs": [],
   "source": [
    "num.sort()"
   ]
  },
  {
   "cell_type": "code",
   "execution_count": 85,
   "id": "8a7fe0f2-7bd4-49ac-b452-859d5951b4ef",
   "metadata": {},
   "outputs": [
    {
     "data": {
      "text/plain": [
       "[10, 15, 20, 25, 30, 35, 40, 45, 50]"
      ]
     },
     "execution_count": 85,
     "metadata": {},
     "output_type": "execute_result"
    }
   ],
   "source": [
    "num"
   ]
  },
  {
   "cell_type": "code",
   "execution_count": 92,
   "id": "421913f0-8471-4f88-8551-42bc22079f35",
   "metadata": {},
   "outputs": [],
   "source": [
    "num.sort(reverse=True)"
   ]
  },
  {
   "cell_type": "code",
   "execution_count": 93,
   "id": "59c7c4db-4c37-40d8-9aa0-a8167c184479",
   "metadata": {},
   "outputs": [
    {
     "data": {
      "text/plain": [
       "[50, 45, 40, 35, 30, 25, 20, 15, 10]"
      ]
     },
     "execution_count": 93,
     "metadata": {},
     "output_type": "execute_result"
    }
   ],
   "source": [
    "num"
   ]
  },
  {
   "cell_type": "markdown",
   "id": "9b2c9772-3f67-4363-8d19-3e82fe881cd0",
   "metadata": {},
   "source": [
    "# MIN FUNCTION\n",
    "* Min function returns the smallest element."
   ]
  },
  {
   "cell_type": "code",
   "execution_count": 86,
   "id": "e95e49e1-464c-4846-b970-a1c7ba488c86",
   "metadata": {},
   "outputs": [
    {
     "data": {
      "text/plain": [
       "[10, 15, 20, 25, 30, 35, 40, 45, 50]"
      ]
     },
     "execution_count": 86,
     "metadata": {},
     "output_type": "execute_result"
    }
   ],
   "source": [
    "num"
   ]
  },
  {
   "cell_type": "code",
   "execution_count": 90,
   "id": "6de8f0b8-d997-4982-b39a-e2caa3a38603",
   "metadata": {},
   "outputs": [],
   "source": [
    "small = min(num)"
   ]
  },
  {
   "cell_type": "code",
   "execution_count": 91,
   "id": "ba1a4ba5-5224-4ad8-932f-2d1eb509675f",
   "metadata": {},
   "outputs": [
    {
     "name": "stdout",
     "output_type": "stream",
     "text": [
      "10\n"
     ]
    }
   ],
   "source": [
    "print(small)"
   ]
  },
  {
   "cell_type": "markdown",
   "id": "d916ba89-9442-4730-9775-b9791180ec94",
   "metadata": {},
   "source": [
    "# MAX FUNCTION\n",
    "* Max function return the largest element."
   ]
  },
  {
   "cell_type": "code",
   "execution_count": 95,
   "id": "e568b261-ff3b-44c1-ade3-98741aa36893",
   "metadata": {},
   "outputs": [
    {
     "data": {
      "text/plain": [
       "[50, 45, 40, 35, 30, 25, 20, 15, 10]"
      ]
     },
     "execution_count": 95,
     "metadata": {},
     "output_type": "execute_result"
    }
   ],
   "source": [
    "num"
   ]
  },
  {
   "cell_type": "code",
   "execution_count": 96,
   "id": "814e0160-7c07-4b2b-9222-5cbb1789c18b",
   "metadata": {},
   "outputs": [],
   "source": [
    "large = max(num)"
   ]
  },
  {
   "cell_type": "code",
   "execution_count": 97,
   "id": "93f28139-ee76-4732-b0bb-8182901f5b10",
   "metadata": {},
   "outputs": [
    {
     "name": "stdout",
     "output_type": "stream",
     "text": [
      "50\n"
     ]
    }
   ],
   "source": [
    "print(large)"
   ]
  },
  {
   "cell_type": "markdown",
   "id": "4b12c00e-e01f-4774-ad78-05eecc7f320f",
   "metadata": {},
   "source": [
    "# POP FUNCTION\n",
    "* Pop function removes element at a specific index from the list."
   ]
  },
  {
   "cell_type": "code",
   "execution_count": 113,
   "id": "54c93d75-3fbf-4ae8-92f3-ece90febe325",
   "metadata": {},
   "outputs": [],
   "source": [
    "f1=[23,34,45,56]"
   ]
  },
  {
   "cell_type": "code",
   "execution_count": 114,
   "id": "b9aa295f-dd2c-413b-969a-7e519785fae3",
   "metadata": {},
   "outputs": [
    {
     "data": {
      "text/plain": [
       "[23, 34, 45, 56]"
      ]
     },
     "execution_count": 114,
     "metadata": {},
     "output_type": "execute_result"
    }
   ],
   "source": [
    "f1"
   ]
  },
  {
   "cell_type": "code",
   "execution_count": 115,
   "id": "1f57f02a-8507-4d44-ae0c-6d6cc5adedfc",
   "metadata": {},
   "outputs": [
    {
     "data": {
      "text/plain": [
       "56"
      ]
     },
     "execution_count": 115,
     "metadata": {},
     "output_type": "execute_result"
    }
   ],
   "source": [
    "f1.pop()"
   ]
  }
 ],
 "metadata": {
  "kernelspec": {
   "display_name": "Python 3 (ipykernel)",
   "language": "python",
   "name": "python3"
  },
  "language_info": {
   "codemirror_mode": {
    "name": "ipython",
    "version": 3
   },
   "file_extension": ".py",
   "mimetype": "text/x-python",
   "name": "python",
   "nbconvert_exporter": "python",
   "pygments_lexer": "ipython3",
   "version": "3.11.7"
  }
 },
 "nbformat": 4,
 "nbformat_minor": 5
}
