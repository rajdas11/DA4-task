{
 "cells": [
  {
   "cell_type": "markdown",
   "id": "5f586d3e",
   "metadata": {},
   "source": [
    "# while loop\n",
    " *A while loop repeatedly execute a single statement or group of statements as long as the condition is true."
   ]
  },
  {
   "cell_type": "code",
   "execution_count": 1,
   "id": "6e8f221e",
   "metadata": {},
   "outputs": [],
   "source": [
    "ccc_list = [\n",
    "    {'Country': 'India', 'City': 'New Delhi', 'Continent': 'Asia'},\n",
    "    {'Country': 'Australia', 'City': 'Canberra', 'Continent': 'Australia'},\n",
    "    {'Country': 'South Africa', 'City': 'Cape Town', 'Continent': 'Africa'},\n",
    "    {'Country': 'France', 'City': 'Paris', 'Continent': 'Europe'},\n",
    "    {'Country': 'United States', 'City': 'Washington DC', 'Continent': 'North America'},\n",
    "]"
   ]
  },
  {
   "cell_type": "code",
   "execution_count": 2,
   "id": "1b8bba9f",
   "metadata": {},
   "outputs": [
    {
     "name": "stdout",
     "output_type": "stream",
     "text": [
      "India belongs to Asia Continent\n",
      "Australia belongs to Australia Continent\n",
      "South Africa belongs to Africa Continent\n",
      "France belongs to Europe Continent\n",
      "United States belongs to North America Continent\n"
     ]
    }
   ],
   "source": [
    "i = 0\n",
    "while i < len(ccc_list):\n",
    "    country = ccc_list[i]['Country']\n",
    "    continent = ccc_list[i]['Continent']\n",
    "    print(f'{country} belongs to {continent} Continent')\n",
    "    i = i + 1"
   ]
  },
  {
   "cell_type": "markdown",
   "id": "2cbd91d5",
   "metadata": {},
   "source": [
    "# for loop\n",
    "* for loop used to iterate over a sequence (such as a list, tuple, dictionary, string, range) and execute a block of code for each item in the sequence."
   ]
  },
  {
   "cell_type": "code",
   "execution_count": 3,
   "id": "c3ccde2b",
   "metadata": {},
   "outputs": [
    {
     "name": "stdout",
     "output_type": "stream",
     "text": [
      "New Delhi is the capital of India\n",
      "Canberra is the capital of Australia\n",
      "Cape Town is the capital of South Africa\n",
      "Paris is the capital of France\n",
      "Washington DC is the capital of United States\n"
     ]
    }
   ],
   "source": [
    "for values in ccc_list:\n",
    "    country = values['Country']\n",
    "    city = values['City']\n",
    "    continent = values['Continent']\n",
    "\n",
    "    print(f'{city} is the capital of {country}')"
   ]
  },
  {
   "cell_type": "markdown",
   "id": "8aabba45",
   "metadata": {},
   "source": [
    "# Map Function\n",
    "* The map function allow to apply a function to an iterable object and returns an iterator containing the results."
   ]
  },
  {
   "cell_type": "code",
   "execution_count": 4,
   "id": "387d9bcf",
   "metadata": {},
   "outputs": [],
   "source": [
    "country_and_its_language = {\n",
    "    'India': 'Hindi',\n",
    "    'Australia': 'English',\n",
    "    'South Africa': 'Afrikaans',\n",
    "    'France': 'French',\n",
    "    'United States': 'English'\n",
    "}"
   ]
  },
  {
   "cell_type": "code",
   "execution_count": 5,
   "id": "c71d4cf6",
   "metadata": {},
   "outputs": [],
   "source": [
    "def add_language(language):\n",
    "    country = language['Country']\n",
    "    if country in country_and_its_language:\n",
    "        language['Language'] = country_and_its_language[country]\n",
    "        \n",
    "    return language"
   ]
  },
  {
   "cell_type": "code",
   "execution_count": 6,
   "id": "af21f0ca",
   "metadata": {},
   "outputs": [
    {
     "name": "stdout",
     "output_type": "stream",
     "text": [
      "[{'Country': 'India', 'City': 'New Delhi', 'Continent': 'Asia', 'Language': 'Hindi'}, {'Country': 'Australia', 'City': 'Canberra', 'Continent': 'Australia', 'Language': 'English'}, {'Country': 'South Africa', 'City': 'Cape Town', 'Continent': 'Africa', 'Language': 'Afrikaans'}, {'Country': 'France', 'City': 'Paris', 'Continent': 'Europe', 'Language': 'French'}, {'Country': 'United States', 'City': 'Washington DC', 'Continent': 'North America', 'Language': 'English'}]\n"
     ]
    }
   ],
   "source": [
    "cccl_list = list(map(add_language, ccc_list))\n",
    "\n",
    "print(cccl_list)"
   ]
  },
  {
   "cell_type": "markdown",
   "id": "310e98b0",
   "metadata": {},
   "source": [
    "# Filter and Lambda\n",
    "*Filter - It returns the items of iterables for the function which is True.\n",
    "*Lambda - Lambda expressions allow to create anonymous functions. It can quickly make temporary functions without properly defining function using def."
   ]
  },
  {
   "cell_type": "code",
   "execution_count": 7,
   "id": "afa847d4",
   "metadata": {},
   "outputs": [
    {
     "name": "stdout",
     "output_type": "stream",
     "text": [
      "[{'Country': 'India', 'City': 'New Delhi', 'Continent': 'Asia', 'Language': 'Hindi'}]\n"
     ]
    }
   ],
   "source": [
    "filtered_list = list(filter(lambda x: x['Language'] == 'Hindi', cccl_list))\n",
    "\n",
    "print(filtered_list)"
   ]
  },
  {
   "cell_type": "code",
   "execution_count": null,
   "id": "151bb990",
   "metadata": {},
   "outputs": [],
   "source": []
  }
 ],
 "metadata": {
  "kernelspec": {
   "display_name": "Python 3 (ipykernel)",
   "language": "python",
   "name": "python3"
  },
  "language_info": {
   "codemirror_mode": {
    "name": "ipython",
    "version": 3
   },
   "file_extension": ".py",
   "mimetype": "text/x-python",
   "name": "python",
   "nbconvert_exporter": "python",
   "pygments_lexer": "ipython3",
   "version": "3.11.5"
  }
 },
 "nbformat": 4,
 "nbformat_minor": 5
}
