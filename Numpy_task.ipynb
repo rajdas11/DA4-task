{
 "cells": [
  {
   "cell_type": "markdown",
   "id": "998beee4",
   "metadata": {},
   "source": [
    "# Numpy is Numerical Python.\n"
   ]
  },
  {
   "cell_type": "code",
   "execution_count": 1,
   "id": "2db9cc0f",
   "metadata": {},
   "outputs": [],
   "source": [
    "import numpy as np"
   ]
  },
  {
   "cell_type": "code",
   "execution_count": 2,
   "id": "bb2f3841",
   "metadata": {},
   "outputs": [
    {
     "data": {
      "text/plain": [
       "array([[1, 2, 3, 4],\n",
       "       [5, 6, 7, 8]])"
      ]
     },
     "execution_count": 2,
     "metadata": {},
     "output_type": "execute_result"
    }
   ],
   "source": [
    "val1 = np.array([[1,2,3,4],[5,6,7,8]])\n",
    "val1"
   ]
  },
  {
   "cell_type": "code",
   "execution_count": 3,
   "id": "ecb9be68",
   "metadata": {},
   "outputs": [
    {
     "data": {
      "text/plain": [
       "array([[0, 0, 0, 0, 0],\n",
       "       [0, 0, 0, 0, 0],\n",
       "       [0, 0, 0, 0, 0],\n",
       "       [0, 0, 0, 0, 0],\n",
       "       [0, 0, 0, 0, 0],\n",
       "       [0, 0, 0, 0, 0],\n",
       "       [0, 0, 0, 0, 0],\n",
       "       [0, 0, 0, 0, 0]])"
      ]
     },
     "execution_count": 3,
     "metadata": {},
     "output_type": "execute_result"
    }
   ],
   "source": [
    "val2 = np.zeros((8,5) , dtype=int)   # Default dtype = float\n",
    "val2"
   ]
  },
  {
   "cell_type": "code",
   "execution_count": 4,
   "id": "6ba56b2b",
   "metadata": {},
   "outputs": [
    {
     "data": {
      "text/plain": [
       "array([[1, 1, 1, 1, 1],\n",
       "       [1, 1, 1, 1, 1]])"
      ]
     },
     "execution_count": 4,
     "metadata": {},
     "output_type": "execute_result"
    }
   ],
   "source": [
    "val3 = np.ones((2,5) , dtype=int)\n",
    "val3"
   ]
  },
  {
   "cell_type": "code",
   "execution_count": 5,
   "id": "be996d45",
   "metadata": {},
   "outputs": [
    {
     "data": {
      "text/plain": [
       "array([ 6,  8, 10, 12, 14, 16, 18, 20, 22, 24, 26, 28, 30, 32, 34, 36, 38])"
      ]
     },
     "execution_count": 5,
     "metadata": {},
     "output_type": "execute_result"
    }
   ],
   "source": [
    "val4 = np.arange(6,40,2)\n",
    "val4"
   ]
  },
  {
   "cell_type": "code",
   "execution_count": 6,
   "id": "bc61eaee",
   "metadata": {},
   "outputs": [
    {
     "data": {
      "text/plain": [
       "array([10., 15., 20., 25., 30.])"
      ]
     },
     "execution_count": 6,
     "metadata": {},
     "output_type": "execute_result"
    }
   ],
   "source": [
    "val5 = np.linspace(10,30,5)\n",
    "val5"
   ]
  },
  {
   "cell_type": "code",
   "execution_count": 7,
   "id": "845d71a6",
   "metadata": {},
   "outputs": [
    {
     "name": "stdout",
     "output_type": "stream",
     "text": [
      "[[29 20  1 17 26 29]\n",
      " [33 15  5 28  7  8]\n",
      " [20 24 27 32 16 32]\n",
      " [15 33  0 17 26 24]]\n"
     ]
    }
   ],
   "source": [
    "val6 = np.random.randint(0,35,size=(4,6))\n",
    "print(val6)"
   ]
  },
  {
   "cell_type": "code",
   "execution_count": 8,
   "id": "30866c30",
   "metadata": {},
   "outputs": [
    {
     "name": "stdout",
     "output_type": "stream",
     "text": [
      "[[[6 6 6]\n",
      "  [6 6 6]\n",
      "  [6 6 6]\n",
      "  [6 6 6]]\n",
      "\n",
      " [[6 6 6]\n",
      "  [6 6 6]\n",
      "  [6 6 6]\n",
      "  [6 6 6]]\n",
      "\n",
      " [[6 6 6]\n",
      "  [6 6 6]\n",
      "  [6 6 6]\n",
      "  [6 6 6]]]\n"
     ]
    }
   ],
   "source": [
    "val7 = np.full((3,4,3),6)\n",
    "print(val7)"
   ]
  },
  {
   "cell_type": "code",
   "execution_count": 9,
   "id": "80c13b97",
   "metadata": {},
   "outputs": [
    {
     "name": "stdout",
     "output_type": "stream",
     "text": [
      "[[1. 0. 0. 0. 0.]\n",
      " [0. 1. 0. 0. 0.]\n",
      " [0. 0. 1. 0. 0.]\n",
      " [0. 0. 0. 1. 0.]\n",
      " [0. 0. 0. 0. 1.]]\n"
     ]
    }
   ],
   "source": [
    "val8 = np.identity(5)\n",
    "print(val8)"
   ]
  },
  {
   "cell_type": "code",
   "execution_count": 10,
   "id": "6e16bb04",
   "metadata": {},
   "outputs": [
    {
     "data": {
      "text/plain": [
       "array([1, 2, 3])"
      ]
     },
     "execution_count": 10,
     "metadata": {},
     "output_type": "execute_result"
    }
   ],
   "source": [
    "list_ = [1,2,3]\n",
    "val9 = np.asarray(list_)\n",
    "val9"
   ]
  },
  {
   "cell_type": "code",
   "execution_count": 11,
   "id": "3024f764",
   "metadata": {},
   "outputs": [
    {
     "data": {
      "text/plain": [
       "array([[4, 4, 1, 4],\n",
       "       [2, 2, 4, 2]])"
      ]
     },
     "execution_count": 11,
     "metadata": {},
     "output_type": "execute_result"
    }
   ],
   "source": [
    "a = np.random.randint(1,5,(2,4))\n",
    "a"
   ]
  },
  {
   "cell_type": "code",
   "execution_count": 12,
   "id": "4a43a6eb",
   "metadata": {},
   "outputs": [
    {
     "data": {
      "text/plain": [
       "array([[9, 6, 5, 6],\n",
       "       [8, 9, 8, 7]])"
      ]
     },
     "execution_count": 12,
     "metadata": {},
     "output_type": "execute_result"
    }
   ],
   "source": [
    "k = np.random.randint(5,10,(2,4))\n",
    "k"
   ]
  },
  {
   "cell_type": "code",
   "execution_count": 13,
   "id": "6031034d",
   "metadata": {},
   "outputs": [
    {
     "data": {
      "text/plain": [
       "array([[36, 24,  5, 24],\n",
       "       [16, 18, 32, 14]])"
      ]
     },
     "execution_count": 13,
     "metadata": {},
     "output_type": "execute_result"
    }
   ],
   "source": [
    "# Multiply\n",
    "np.multiply(a,k)"
   ]
  },
  {
   "cell_type": "code",
   "execution_count": 14,
   "id": "e1454ddf",
   "metadata": {},
   "outputs": [
    {
     "data": {
      "text/plain": [
       "array([[0.44444444, 0.66666667, 0.2       , 0.66666667],\n",
       "       [0.25      , 0.22222222, 0.5       , 0.28571429]])"
      ]
     },
     "execution_count": 14,
     "metadata": {},
     "output_type": "execute_result"
    }
   ],
   "source": [
    "# Divide \n",
    "np.divide(a,k)"
   ]
  },
  {
   "cell_type": "code",
   "execution_count": 15,
   "id": "4c40c0ec",
   "metadata": {},
   "outputs": [
    {
     "data": {
      "text/plain": [
       "55800"
      ]
     },
     "execution_count": 15,
     "metadata": {},
     "output_type": "execute_result"
    }
   ],
   "source": [
    "# multiplication\n",
    "multiply = np.multiply(186, 300)\n",
    "multiply"
   ]
  },
  {
   "cell_type": "markdown",
   "id": "cb4fc4f4",
   "metadata": {},
   "source": [
    "# Array Operations"
   ]
  },
  {
   "cell_type": "code",
   "execution_count": 16,
   "id": "2c74de95",
   "metadata": {},
   "outputs": [
    {
     "data": {
      "text/plain": [
       "array([[21, 36, 19, 39, 19],\n",
       "       [13, 22, 39, 27,  1],\n",
       "       [38,  5, 12, 14,  6]])"
      ]
     },
     "execution_count": 16,
     "metadata": {},
     "output_type": "execute_result"
    }
   ],
   "source": [
    "val1 = np.random.randint(1,40,(3,5))\n",
    "val1"
   ]
  },
  {
   "cell_type": "markdown",
   "id": "b2d48d56",
   "metadata": {},
   "source": [
    "* max"
   ]
  },
  {
   "cell_type": "code",
   "execution_count": 17,
   "id": "8e451b97",
   "metadata": {},
   "outputs": [
    {
     "data": {
      "text/plain": [
       "0"
      ]
     },
     "execution_count": 17,
     "metadata": {},
     "output_type": "execute_result"
    }
   ],
   "source": [
    "val2.max()\n"
   ]
  },
  {
   "cell_type": "markdown",
   "id": "c76ee642",
   "metadata": {},
   "source": [
    "* min"
   ]
  },
  {
   "cell_type": "code",
   "execution_count": 18,
   "id": "deeab5ad",
   "metadata": {},
   "outputs": [
    {
     "data": {
      "text/plain": [
       "1"
      ]
     },
     "execution_count": 18,
     "metadata": {},
     "output_type": "execute_result"
    }
   ],
   "source": [
    "val3.min()"
   ]
  },
  {
   "cell_type": "markdown",
   "id": "5c9ac2e4",
   "metadata": {},
   "source": [
    " * Median"
   ]
  },
  {
   "cell_type": "code",
   "execution_count": 19,
   "id": "27556784",
   "metadata": {},
   "outputs": [
    {
     "data": {
      "text/plain": [
       "3.5"
      ]
     },
     "execution_count": 19,
     "metadata": {},
     "output_type": "execute_result"
    }
   ],
   "source": [
    "val4 = np.array([[1,2,3],[5,8,4]])\n",
    "np.median(val4)"
   ]
  },
  {
   "cell_type": "markdown",
   "id": "c9a8b5fc",
   "metadata": {},
   "source": [
    " # Array Manipulation"
   ]
  },
  {
   "cell_type": "code",
   "execution_count": 20,
   "id": "2d390afc",
   "metadata": {},
   "outputs": [
    {
     "data": {
      "text/plain": [
       "array([[4, 1, 2, 4, 2, 3],\n",
       "       [4, 3, 4, 2, 1, 2],\n",
       "       [1, 3, 3, 2, 1, 2],\n",
       "       [2, 3, 2, 2, 2, 4]])"
      ]
     },
     "execution_count": 20,
     "metadata": {},
     "output_type": "execute_result"
    }
   ],
   "source": [
    "val1 = np.array(np.random.randint(1,5,(4,6)))\n",
    "val1"
   ]
  },
  {
   "cell_type": "code",
   "execution_count": 21,
   "id": "54444a3b",
   "metadata": {},
   "outputs": [
    {
     "data": {
      "text/plain": [
       "array([[4, 4, 1, 2],\n",
       "       [1, 3, 3, 3],\n",
       "       [2, 4, 3, 2],\n",
       "       [4, 2, 2, 2],\n",
       "       [2, 1, 1, 2],\n",
       "       [3, 2, 2, 4]])"
      ]
     },
     "execution_count": 21,
     "metadata": {},
     "output_type": "execute_result"
    }
   ],
   "source": [
    "transpose_array = np.transpose(val1)\n",
    "transpose_array"
   ]
  },
  {
   "cell_type": "code",
   "execution_count": 22,
   "id": "c37952b1",
   "metadata": {},
   "outputs": [
    {
     "data": {
      "text/plain": [
       "array([1, 1, 1, 1, 1, 1, 1, 1, 1, 1])"
      ]
     },
     "execution_count": 22,
     "metadata": {},
     "output_type": "execute_result"
    }
   ],
   "source": [
    "val3.flatten()"
   ]
  },
  {
   "cell_type": "markdown",
   "id": "5e859374",
   "metadata": {},
   "source": [
    "# Numpy array Attributes\n",
    "* ndarray.shape"
   ]
  },
  {
   "cell_type": "code",
   "execution_count": 23,
   "id": "d634b794",
   "metadata": {},
   "outputs": [
    {
     "name": "stdout",
     "output_type": "stream",
     "text": [
      "(2, 3)\n"
     ]
    }
   ],
   "source": [
    "val1 = np.array([[1,2,3],[3,4,9]])\n",
    "print(val1.shape)"
   ]
  },
  {
   "cell_type": "code",
   "execution_count": 24,
   "id": "11cf5d7a",
   "metadata": {},
   "outputs": [
    {
     "name": "stdout",
     "output_type": "stream",
     "text": [
      "(4, 2, 3)\n"
     ]
    }
   ],
   "source": [
    "val2 = np.array([[[1,2,3],[4,5,6]],\n",
    "                       [[1,2,3],[4,5,6]],\n",
    "                       [[1,2,3],[4,5,6]],\n",
    "                       [[1,2,3],[4,5,6]]])\n",
    "print(val2.shape)\n"
   ]
  },
  {
   "cell_type": "code",
   "execution_count": 25,
   "id": "bb53c13f",
   "metadata": {},
   "outputs": [
    {
     "name": "stdout",
     "output_type": "stream",
     "text": [
      "The dimension of val3:  2\n"
     ]
    }
   ],
   "source": [
    "val3 = np.array([[1,2,3],[4,5,6]])\n",
    "print(f\"The dimension of val3: \",val3.ndim)"
   ]
  },
  {
   "cell_type": "code",
   "execution_count": 26,
   "id": "88eb0860",
   "metadata": {},
   "outputs": [
    {
     "name": "stdout",
     "output_type": "stream",
     "text": [
      "int32\n"
     ]
    }
   ],
   "source": [
    "val4 = np.array([1,2,3,4,5])\n",
    "print(val4.dtype)"
   ]
  },
  {
   "cell_type": "code",
   "execution_count": 27,
   "id": "41c84273",
   "metadata": {},
   "outputs": [
    {
     "name": "stdout",
     "output_type": "stream",
     "text": [
      "The total number of elements in val5 =  6\n"
     ]
    }
   ],
   "source": [
    "val5 = np.array([[1,2,3],[4,5,8]])\n",
    "print(f\"The total number of elements in val5 =  {val5.size}\")"
   ]
  },
  {
   "cell_type": "code",
   "execution_count": 29,
   "id": "0e0baafb",
   "metadata": {},
   "outputs": [
    {
     "name": "stdout",
     "output_type": "stream",
     "text": [
      "int32\n",
      "[2 3 4]\n",
      "[2 3 4]\n"
     ]
    }
   ],
   "source": [
    "val6 = np.array([2,3,4])\n",
    "print(val6.dtype)\n",
    "print(val6)\n",
    "print(val6)\n"
   ]
  },
  {
   "cell_type": "code",
   "execution_count": null,
   "id": "da8f5f2b",
   "metadata": {},
   "outputs": [],
   "source": []
  }
 ],
 "metadata": {
  "kernelspec": {
   "display_name": "Python 3 (ipykernel)",
   "language": "python",
   "name": "python3"
  },
  "language_info": {
   "codemirror_mode": {
    "name": "ipython",
    "version": 3
   },
   "file_extension": ".py",
   "mimetype": "text/x-python",
   "name": "python",
   "nbconvert_exporter": "python",
   "pygments_lexer": "ipython3",
   "version": "3.11.5"
  }
 },
 "nbformat": 4,
 "nbformat_minor": 5
}
