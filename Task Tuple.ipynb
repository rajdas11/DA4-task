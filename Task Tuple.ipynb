{
 "cells": [
  {
   "cell_type": "markdown",
   "id": "709a3020",
   "metadata": {},
   "source": [
    "# TUPLE\n",
    " * Creat Tuple"
   ]
  },
  {
   "cell_type": "code",
   "execution_count": 1,
   "id": "1bb8dd87",
   "metadata": {},
   "outputs": [],
   "source": [
    "a1 = ('tomato','potato','cabbage')"
   ]
  },
  {
   "cell_type": "code",
   "execution_count": 2,
   "id": "4dce8058",
   "metadata": {},
   "outputs": [
    {
     "name": "stdout",
     "output_type": "stream",
     "text": [
      "('tomato', 'potato', 'cabbage')\n"
     ]
    }
   ],
   "source": [
    "print(a1)"
   ]
  },
  {
   "cell_type": "markdown",
   "id": "61a950df",
   "metadata": {},
   "source": [
    "# LEN() FUNCTION\n",
    " * this function returns the number of element present in a tuple."
   ]
  },
  {
   "cell_type": "code",
   "execution_count": 3,
   "id": "3eb49464",
   "metadata": {},
   "outputs": [],
   "source": [
    "a1 = ('tomato','potato','cabbage')"
   ]
  },
  {
   "cell_type": "code",
   "execution_count": 4,
   "id": "729fa026",
   "metadata": {},
   "outputs": [],
   "source": [
    "a1 = len(a1)"
   ]
  },
  {
   "cell_type": "code",
   "execution_count": 5,
   "id": "739ddb3e",
   "metadata": {},
   "outputs": [
    {
     "name": "stdout",
     "output_type": "stream",
     "text": [
      "3\n"
     ]
    }
   ],
   "source": [
    "print(a1)"
   ]
  },
  {
   "cell_type": "markdown",
   "id": "80cdd0a9",
   "metadata": {},
   "source": [
    "# COUNT() FUNCTION\n",
    " * this function will help us to found the number of time an element is present in the truple."
   ]
  },
  {
   "cell_type": "code",
   "execution_count": 6,
   "id": "43d694a2",
   "metadata": {},
   "outputs": [
    {
     "data": {
      "text/plain": [
       "3"
      ]
     },
     "execution_count": 6,
     "metadata": {},
     "output_type": "execute_result"
    }
   ],
   "source": [
    "a1 = (22,45,23,78,22,22,6.83)\n",
    "a1.count(22)"
   ]
  },
  {
   "cell_type": "markdown",
   "id": "5d88e629",
   "metadata": {},
   "source": [
    "# INDEX() FUNCTION\n",
    "* this index() method helps us to find the index or occurrence of an element in the tuple."
   ]
  },
  {
   "cell_type": "code",
   "execution_count": 7,
   "id": "07ab8d15",
   "metadata": {},
   "outputs": [],
   "source": [
    "a1 = ( 1,3,7,5,8,3,5,9,1,2)"
   ]
  },
  {
   "cell_type": "code",
   "execution_count": 8,
   "id": "2093cc3c",
   "metadata": {},
   "outputs": [],
   "source": [
    "a1 = a1.index(5)"
   ]
  },
  {
   "cell_type": "code",
   "execution_count": 9,
   "id": "02b03ecd",
   "metadata": {},
   "outputs": [
    {
     "name": "stdout",
     "output_type": "stream",
     "text": [
      "3\n"
     ]
    }
   ],
   "source": [
    "print(a1)"
   ]
  },
  {
   "cell_type": "markdown",
   "id": "d7687e0f",
   "metadata": {},
   "source": [
    "# SORTED() FUNCTION\n",
    "* this method takes a tuple as an input and returns a sorted list as an output"
   ]
  },
  {
   "cell_type": "code",
   "execution_count": 10,
   "id": "7bd404da",
   "metadata": {},
   "outputs": [],
   "source": [
    "a1 = (22,3, 35, 4,2.4,2,56,90,1)\n",
    "a1 = sorted(a1)"
   ]
  },
  {
   "cell_type": "code",
   "execution_count": 11,
   "id": "d9318a16",
   "metadata": {},
   "outputs": [
    {
     "name": "stdout",
     "output_type": "stream",
     "text": [
      "[1, 2, 2.4, 3, 4, 22, 35, 56, 90]\n"
     ]
    }
   ],
   "source": [
    "print(a1)"
   ]
  },
  {
   "cell_type": "code",
   "execution_count": null,
   "id": "c0108a14",
   "metadata": {},
   "outputs": [],
   "source": []
  }
 ],
 "metadata": {
  "kernelspec": {
   "display_name": "Python 3 (ipykernel)",
   "language": "python",
   "name": "python3"
  },
  "language_info": {
   "codemirror_mode": {
    "name": "ipython",
    "version": 3
   },
   "file_extension": ".py",
   "mimetype": "text/x-python",
   "name": "python",
   "nbconvert_exporter": "python",
   "pygments_lexer": "ipython3",
   "version": "3.11.5"
  }
 },
 "nbformat": 4,
 "nbformat_minor": 5
}
