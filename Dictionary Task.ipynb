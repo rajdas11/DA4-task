{
 "cells": [
  {
   "cell_type": "markdown",
   "id": "106c18db-dfba-48fe-8636-2c075dc41fa8",
   "metadata": {},
   "source": [
    "# DICTIONARY\n",
    "* The Dictionary method is like a map that is used to store data in the from of a key:value pair."
   ]
  },
  {
   "cell_type": "code",
   "execution_count": 1,
   "id": "bd7d11fa-091d-4f1e-8bb0-5a22f1cb0e35",
   "metadata": {},
   "outputs": [],
   "source": [
    "d1={'TOYOTA':'FORTUNER','TATA':'RANGE ROVER'}"
   ]
  },
  {
   "cell_type": "code",
   "execution_count": 2,
   "id": "99bbe111-b682-41fc-b800-530a06da8ac2",
   "metadata": {},
   "outputs": [
    {
     "data": {
      "text/plain": [
       "{'TOYOTA': 'FORTUNER', 'TATA': 'RANGE ROVER'}"
      ]
     },
     "execution_count": 2,
     "metadata": {},
     "output_type": "execute_result"
    }
   ],
   "source": [
    "d1"
   ]
  },
  {
   "cell_type": "code",
   "execution_count": 3,
   "id": "6b779868-5240-4fdd-8f50-5ad3e3bcb0b4",
   "metadata": {},
   "outputs": [
    {
     "data": {
      "text/plain": [
       "dict"
      ]
     },
     "execution_count": 3,
     "metadata": {},
     "output_type": "execute_result"
    }
   ],
   "source": [
    "type(d1)"
   ]
  },
  {
   "cell_type": "markdown",
   "id": "5a877ce9-176f-44f1-9534-36127ac55956",
   "metadata": {},
   "source": [
    "# KEYS FUNCTION\n",
    "* The keys function method is returns a view object that displays a list of all the keys."
   ]
  },
  {
   "cell_type": "code",
   "execution_count": 32,
   "id": "a6153580-d7e5-42ca-ab5a-ad596d0aacc3",
   "metadata": {},
   "outputs": [],
   "source": [
    "d2 = {'YAMAHA': 'R15', 'TVS': 'APACHIE', 'HONDA': 'HORNET'}"
   ]
  },
  {
   "cell_type": "code",
   "execution_count": 33,
   "id": "ebb01828-9618-433e-86a6-e7a5a7d2e0c1",
   "metadata": {},
   "outputs": [
    {
     "data": {
      "text/plain": [
       "{'YAMAHA': 'R15', 'TVS': 'APACHIE', 'HONDA': 'HORNET'}"
      ]
     },
     "execution_count": 33,
     "metadata": {},
     "output_type": "execute_result"
    }
   ],
   "source": [
    "d2"
   ]
  },
  {
   "cell_type": "code",
   "execution_count": 39,
   "id": "0dd6e8c7-a14f-40c2-9365-9aec2e521ced",
   "metadata": {},
   "outputs": [],
   "source": [
    "d2 = d2.keys()"
   ]
  },
  {
   "cell_type": "code",
   "execution_count": 40,
   "id": "678e6775-1c6c-4d43-bd9f-c4fb499574f2",
   "metadata": {},
   "outputs": [
    {
     "data": {
      "text/plain": [
       "dict_keys(['YAMAHA', 'TVS', 'HONDA'])"
      ]
     },
     "execution_count": 40,
     "metadata": {},
     "output_type": "execute_result"
    }
   ],
   "source": [
    "d2"
   ]
  },
  {
   "cell_type": "markdown",
   "id": "34f3330c-6f6d-44dd-9eb8-ff2471ecedda",
   "metadata": {},
   "source": [
    "# CLEAR FUNCTION\n",
    "* The clear function method removes all items from the dictonary."
   ]
  },
  {
   "cell_type": "code",
   "execution_count": 24,
   "id": "3188b362-fa87-41c6-a52a-454df3c0604f",
   "metadata": {},
   "outputs": [],
   "source": [
    "d3 = {1: \"mango\", 2: \"apple\"}"
   ]
  },
  {
   "cell_type": "code",
   "execution_count": 25,
   "id": "40488944-79e4-4553-81ab-67aefb4e226e",
   "metadata": {},
   "outputs": [
    {
     "data": {
      "text/plain": [
       "{1: 'mango', 2: 'apple'}"
      ]
     },
     "execution_count": 25,
     "metadata": {},
     "output_type": "execute_result"
    }
   ],
   "source": [
    "d3"
   ]
  },
  {
   "cell_type": "code",
   "execution_count": 26,
   "id": "b2ab48bf-b543-4765-b15f-e5906369a741",
   "metadata": {},
   "outputs": [],
   "source": [
    "d3.clear()"
   ]
  },
  {
   "cell_type": "code",
   "execution_count": 27,
   "id": "4eb73078-6c18-41f3-8cca-cf9144e7e18e",
   "metadata": {},
   "outputs": [
    {
     "data": {
      "text/plain": [
       "{}"
      ]
     },
     "execution_count": 27,
     "metadata": {},
     "output_type": "execute_result"
    }
   ],
   "source": [
    "d3"
   ]
  },
  {
   "cell_type": "markdown",
   "id": "b0195921-4267-4935-91c5-f4b9dea9a401",
   "metadata": {},
   "source": [
    "# FROMKEYS FUNCTION\n",
    "* The fromkeys function returns the dictinary with key mapped and specific value.it creates a new dictionary from the given sequence with the specific\n",
    "value."
   ]
  },
  {
   "cell_type": "code",
   "execution_count": 28,
   "id": "2f710bd7-a155-44d0-a2d9-0647ab1a9ff0",
   "metadata": {},
   "outputs": [
    {
     "name": "stdout",
     "output_type": "stream",
     "text": [
      "{'c': None, 'a': None, 'b': None}\n"
     ]
    }
   ],
   "source": [
    "sq1 = {'a', 'b', 'c'}\n",
    "print(dict.fromkeys(sq1, None))"
   ]
  },
  {
   "cell_type": "markdown",
   "id": "3b2ec7ba-75f3-41e6-ab24-7e6ee9158dac",
   "metadata": {},
   "source": [
    "# GET FUNCTION\n",
    "* Get function method return the value for the given key if present in the dictionary."
   ]
  },
  {
   "cell_type": "code",
   "execution_count": 29,
   "id": "dc7ee2d9-dec4-4369-9848-3b41dec80a73",
   "metadata": {},
   "outputs": [
    {
     "data": {
      "text/plain": [
       "{'TOYOTA': 'FORTUNER', 'TATA': 'RANGE ROVER'}"
      ]
     },
     "execution_count": 29,
     "metadata": {},
     "output_type": "execute_result"
    }
   ],
   "source": [
    "d1"
   ]
  },
  {
   "cell_type": "code",
   "execution_count": 30,
   "id": "714dce0f-048b-4c2b-9bed-f63fa1c15e57",
   "metadata": {},
   "outputs": [
    {
     "data": {
      "text/plain": [
       "'FORTUNER'"
      ]
     },
     "execution_count": 30,
     "metadata": {},
     "output_type": "execute_result"
    }
   ],
   "source": [
    "d1.get('TOYOTA')"
   ]
  },
  {
   "cell_type": "markdown",
   "id": "d48d12b0-a702-4200-8c51-79517c93aa8f",
   "metadata": {},
   "source": [
    "# POP FUNCTION\n",
    "* Pop function method removs and returns the specified element."
   ]
  },
  {
   "cell_type": "code",
   "execution_count": 41,
   "id": "d9d7bdd0-1346-4ce4-8055-06820a48a9d5",
   "metadata": {},
   "outputs": [],
   "source": [
    "race_rank = {\"Tanmay\":2, \"kunal\":3, \"Sukniya\":4, \"Nikhil\":1}"
   ]
  },
  {
   "cell_type": "code",
   "execution_count": 42,
   "id": "52a8e0b8-e474-4748-9ece-f2785793864e",
   "metadata": {},
   "outputs": [
    {
     "data": {
      "text/plain": [
       "{'Tanmay': 2, 'kunal': 3, 'Sukniya': 4, 'Nikhil': 1}"
      ]
     },
     "execution_count": 42,
     "metadata": {},
     "output_type": "execute_result"
    }
   ],
   "source": [
    "race_rank"
   ]
  },
  {
   "cell_type": "code",
   "execution_count": 43,
   "id": "40f63d9c-1d0b-40f4-8ced-78771ba88ae1",
   "metadata": {},
   "outputs": [
    {
     "data": {
      "text/plain": [
       "3"
      ]
     },
     "execution_count": 43,
     "metadata": {},
     "output_type": "execute_result"
    }
   ],
   "source": [
    "race_rank.pop(\"kunal\")"
   ]
  },
  {
   "cell_type": "markdown",
   "id": "b866b934-356f-481f-8b2f-801b429c35e5",
   "metadata": {},
   "source": [
    "# SETDEFAULT FUNCTION\n",
    "* Setdefault function returns the value of a key.Eles,it insert a key with the default value to the dictionary.  "
   ]
  },
  {
   "cell_type": "code",
   "execution_count": 44,
   "id": "20e12295-065b-42a0-ad02-47615f471a68",
   "metadata": {},
   "outputs": [],
   "source": [
    "da1 = {'a':55, 'b':64, 'c':74, 'd':87}"
   ]
  },
  {
   "cell_type": "code",
   "execution_count": 45,
   "id": "53717366-cec7-4dcc-97b7-686f1320e2dd",
   "metadata": {},
   "outputs": [
    {
     "data": {
      "text/plain": [
       "{'a': 55, 'b': 64, 'c': 74, 'd': 87}"
      ]
     },
     "execution_count": 45,
     "metadata": {},
     "output_type": "execute_result"
    }
   ],
   "source": [
    "da1"
   ]
  },
  {
   "cell_type": "code",
   "execution_count": 46,
   "id": "79c7f398-f6d2-4e8b-8f1e-e5615042a1ec",
   "metadata": {},
   "outputs": [
    {
     "data": {
      "text/plain": [
       "93"
      ]
     },
     "execution_count": 46,
     "metadata": {},
     "output_type": "execute_result"
    }
   ],
   "source": [
    "da1.setdefault('',93)"
   ]
  },
  {
   "cell_type": "code",
   "execution_count": 47,
   "id": "3a355ba9-a954-470b-8c1a-ba9dc63655c1",
   "metadata": {},
   "outputs": [
    {
     "data": {
      "text/plain": [
       "{'a': 55, 'b': 64, 'c': 74, 'd': 87, '': 93}"
      ]
     },
     "execution_count": 47,
     "metadata": {},
     "output_type": "execute_result"
    }
   ],
   "source": [
    "da1"
   ]
  },
  {
   "cell_type": "markdown",
   "id": "e8e7f8a0-67c4-478e-90fc-320250ad7a3b",
   "metadata": {},
   "source": [
    "# VALUE FANCTION\n",
    "* The value function returns a view object.The view object contains the value of the dictinary,as a list."
   ]
  },
  {
   "cell_type": "code",
   "execution_count": 59,
   "id": "46796b91-fb69-4d1f-be98-20071ca4b179",
   "metadata": {},
   "outputs": [],
   "source": [
    "dict1 = {\"sourabh\": 2, \"arun\":3, \"gaurav\":4}"
   ]
  },
  {
   "cell_type": "code",
   "execution_count": 62,
   "id": "2f9fa4a3-c007-4a1d-a6c5-01aeea8492a2",
   "metadata": {},
   "outputs": [
    {
     "data": {
      "text/plain": [
       "{'sourabh': 2, 'arun': 3, 'gaurav': 4}"
      ]
     },
     "execution_count": 62,
     "metadata": {},
     "output_type": "execute_result"
    }
   ],
   "source": [
    "dict1"
   ]
  },
  {
   "cell_type": "code",
   "execution_count": 63,
   "id": "d1185624-de60-44ad-8b76-dd288385a415",
   "metadata": {},
   "outputs": [
    {
     "data": {
      "text/plain": [
       "dict_values([2, 3, 4])"
      ]
     },
     "execution_count": 63,
     "metadata": {},
     "output_type": "execute_result"
    }
   ],
   "source": [
    "dict1.values()"
   ]
  },
  {
   "cell_type": "code",
   "execution_count": 51,
   "id": "022c3fcf-5316-420f-9713-6fc44f9f5f92",
   "metadata": {},
   "outputs": [],
   "source": [
    "dist = {\"bicky\": \"5\", \"rakesh\": \"1\", \"amit\": \"5\"}"
   ]
  },
  {
   "cell_type": "code",
   "execution_count": 53,
   "id": "0073fd1b-36d5-4c67-a739-8ab7c1ea6820",
   "metadata": {},
   "outputs": [
    {
     "data": {
      "text/plain": [
       "{'bicky': '5', 'rakesh': '1', 'amit': '5'}"
      ]
     },
     "execution_count": 53,
     "metadata": {},
     "output_type": "execute_result"
    }
   ],
   "source": [
    "dist"
   ]
  },
  {
   "cell_type": "code",
   "execution_count": 66,
   "id": "59584f54-a501-4aef-a63c-0511f57ee5f8",
   "metadata": {},
   "outputs": [
    {
     "data": {
      "text/plain": [
       "dict_values(['5', '1', '5'])"
      ]
     },
     "execution_count": 66,
     "metadata": {},
     "output_type": "execute_result"
    }
   ],
   "source": [
    "dist.values()"
   ]
  },
  {
   "cell_type": "code",
   "execution_count": null,
   "id": "6690ef95-a7de-470c-93dc-caa52b65170c",
   "metadata": {},
   "outputs": [],
   "source": []
  }
 ],
 "metadata": {
  "kernelspec": {
   "display_name": "Python 3 (ipykernel)",
   "language": "python",
   "name": "python3"
  },
  "language_info": {
   "codemirror_mode": {
    "name": "ipython",
    "version": 3
   },
   "file_extension": ".py",
   "mimetype": "text/x-python",
   "name": "python",
   "nbconvert_exporter": "python",
   "pygments_lexer": "ipython3",
   "version": "3.11.7"
  }
 },
 "nbformat": 4,
 "nbformat_minor": 5
}
